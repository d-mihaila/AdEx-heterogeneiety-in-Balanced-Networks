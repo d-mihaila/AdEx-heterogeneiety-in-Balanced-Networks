{
 "cells": [
  {
   "cell_type": "code",
   "execution_count": 1,
   "metadata": {},
   "outputs": [],
   "source": [
    "from pyrates import CircuitTemplate\n",
    "import numpy as np\n",
    "import matplotlib.pyplot as plt\n",
    "from scipy.stats import cauchy\n",
    "import yaml\n",
    "# from rectipy import Network, random_connectivity\n",
    "plt.rcParams['backend'] = 'TkAgg'"
   ]
  },
  {
   "cell_type": "markdown",
   "metadata": {},
   "source": [
    "## Define distribution and parameters"
   ]
  },
  {
   "cell_type": "code",
   "execution_count": 2,
   "metadata": {},
   "outputs": [],
   "source": [
    "def lorentzian(n: int, eta: float, delta: float, lb: float, ub: float):\n",
    "    samples = np.zeros((n,))\n",
    "    for i in range(n):\n",
    "        s = cauchy.rvs(loc=eta, scale=delta)\n",
    "        while s <= lb or s >= ub:\n",
    "            s = cauchy.rvs(loc=eta, scale=delta)\n",
    "        samples[i] = s\n",
    "    return samples"
   ]
  },
  {
   "cell_type": "code",
   "execution_count": 3,
   "metadata": {},
   "outputs": [],
   "source": [
    "# define parameters\n",
    "###################\n",
    "\n",
    "# model parameters\n",
    "N = 1000\n",
    "p = 0.2\n",
    "C = 100.0\n",
    "k = 0.7\n",
    "v_r = -70.6\n",
    "v_t = -50.4\n",
    "Delta = 2.5\n",
    "eta = 0.0\n",
    "a = 0.03\n",
    "b = 80\n",
    "d = 10.0\n",
    "g = 15.0\n",
    "E_r = 0.0\n",
    "tau_s = 6.0\n",
    "v_spike = 1000.0\n",
    "v_reset = -1000.0\n",
    "# Add additional parameters for the AdEx model\n",
    "C_adex = 281.0\n",
    "delta_T = 2.0\n",
    "g_adex = 30.0 \n",
    "a_adex = 4.0\n",
    "v_r_adex = -70.6\n",
    "b_adex = 80.5\n",
    "tau_w = 144.0\n",
    "\n",
    "# define inputs\n",
    "T = 500.0\n",
    "# cutoff = 500.0\n",
    "dt = 1e-3\n",
    "dts = 1e-1\n",
    "inp = np.ones((int(T/dt), 1))\n",
    "# inp = np.zeros((int(T/dt), 1)) + 25.0\n",
    "# inp[:int(cutoff*0.5/dt), 0] -= 15.0\n",
    "# inp[int(750/dt):int(2000/dt), 0] += 30\n"
   ]
  },
  {
   "cell_type": "code",
   "execution_count": 4,
   "metadata": {},
   "outputs": [],
   "source": [
    "# # Plot the input over time\n",
    "# time = np.arange(0, T, dt)\n",
    "# plt.figure(figsize=(10, 6))\n",
    "# plt.plot(time, inp, label='Input')\n",
    "# plt.xlabel('Time (ms)')\n",
    "# plt.ylabel('Input')\n",
    "# plt.title('Input over Time')\n",
    "# plt.legend()\n",
    "# plt.show()"
   ]
  },
  {
   "cell_type": "markdown",
   "metadata": {},
   "source": [
    "## Running the Models"
   ]
  },
  {
   "cell_type": "code",
   "execution_count": 5,
   "metadata": {},
   "outputs": [
    {
     "name": "stdout",
     "output_type": "stream",
     "text": [
      "Compilation Progress\n",
      "--------------------\n",
      "\t(1) Translating the circuit template into a networkx graph representation...\n",
      "\t\t...finished.\n",
      "\t(2) Preprocessing edge transmission operations...\n",
      "\t\t...finished.\n",
      "\t(3) Parsing the model equations into a compute graph...\n",
      "\t\t...finished.\n",
      "\tModel compilation was finished.\n",
      "Simulation Progress\n",
      "-------------------\n",
      "\t (1) Generating the network run function...\n",
      "\t (2) Processing output variables...\n",
      "\t\t...finished.\n",
      "\t (3) Running the simulation...\n"
     ]
    },
    {
     "name": "stderr",
     "output_type": "stream",
     "text": [
      "/Users/utilizator/Desktop/THESIS CODE/gast_paper/pyrates_run.py:16: RuntimeWarning: overflow encountered in multiply\n",
      "  dy[1:2] = (I_ext + g*(delta_T - s*(E_r + r*v) + 2*v + v_r + v_t) - w)/C\n",
      "/Users/utilizator/Desktop/THESIS CODE/gast_paper/pyrates_run.py:16: RuntimeWarning: invalid value encountered in add\n",
      "  dy[1:2] = (I_ext + g*(delta_T - s*(E_r + r*v) + 2*v + v_r + v_t) - w)/C\n"
     ]
    },
    {
     "name": "stdout",
     "output_type": "stream",
     "text": [
      "\t\t...finished after 13.901698020000001s.\n"
     ]
    },
    {
     "name": "stderr",
     "output_type": "stream",
     "text": [
      "2024-11-04 11:32:20.754 python[11192:170319] +[IMKClient subclass]: chose IMKClient_Modern\n",
      "2024-11-04 11:32:20.754 python[11192:170319] +[IMKInputSession subclass]: chose IMKInputSession_Modern\n"
     ]
    }
   ],
   "source": [
    "## AdEx model\n",
    "\n",
    "# initialize model\n",
    "adex = CircuitTemplate.from_yaml(\"/Users/utilizator/Desktop/THESIS CODE/gast_paper/config/adex_mf/adex\")\n",
    "\n",
    "# update parameters --- TODO!\n",
    "adex.update_var(node_vars={'p/adex_op/C': C_adex,  'p/adex_op/v_r': v_r_adex, 'p/adex_op/v_t': v_t, 'p/adex_op/delta_T': delta_T,\n",
    "                         'p/adex_op/a': a_adex, 'p/adex_op/b': b_adex, 'p/adex_op/tau_s': tau_s, 'p/adex_op/g': g_adex,\n",
    "                         'p/adex_op/E_r': E_r, 'p/adex_op/tau_w': tau_w, 'p/adex_op/delta_v': Delta})\n",
    "\n",
    "# run simulation\n",
    "res_mf_adex = adex.run(simulation_time=T, step_size=dt, sampling_step_size=dts, solver='euler',\n",
    "                outputs={'s': 'p/adex_op/s'}, inputs={'p/adex_op/I_ext': inp[:, 0]})\n",
    "\n",
    "\n",
    "## just the AdEx model\n",
    "t = res_mf_adex.index\n",
    "# print(t, res_mf_adex['s'])\n",
    "\n",
    "plt.figure(figsize=(10, 6))\n",
    "plt.plot(t, res_mf_adex['s'], label='AdEx Model')\n",
    "plt.xlabel('Time (ms)')\n",
    "plt.ylabel('synaptic activity')\n",
    "plt.title('Mean-Field Model Results')\n",
    "plt.legend()\n",
    "plt.show()"
   ]
  },
  {
   "cell_type": "code",
   "execution_count": 6,
   "metadata": {},
   "outputs": [
    {
     "name": "stdout",
     "output_type": "stream",
     "text": [
      "Compilation Progress\n",
      "--------------------\n",
      "\t(1) Translating the circuit template into a networkx graph representation...\n",
      "\t\t...finished.\n",
      "\t(2) Preprocessing edge transmission operations...\n",
      "\t\t...finished.\n",
      "\t(3) Parsing the model equations into a compute graph...\n",
      "\t\t...finished.\n",
      "\tModel compilation was finished.\n",
      "Simulation Progress\n",
      "-------------------\n",
      "\t (1) Generating the network run function...\n",
      "\t (2) Processing output variables...\n",
      "\t\t...finished.\n",
      "\t (3) Running the simulation...\n",
      "\t\t...finished after 19.318616430999995s.\n"
     ]
    }
   ],
   "source": [
    "## Ik model\n",
    "\n",
    "# initialize model\n",
    "ik = CircuitTemplate.from_yaml(\"/Users/utilizator/Desktop/THESIS CODE/gast_paper/config/ik_mf/ik\")\n",
    "\n",
    "# update parameters\n",
    "ik.update_var(node_vars={'p/ik_op/C': C, 'p/ik_op/k': k, 'p/ik_op/v_r': v_r, 'p/ik_op/v_t': v_t, 'p/ik_op/Delta': Delta,\n",
    "                         'p/ik_op/d': d, 'p/ik_op/a': a, 'p/ik_op/b': b, 'p/ik_op/tau_s': tau_s, 'p/ik_op/g': g,\n",
    "                         'p/ik_op/E_r': E_r})\n",
    "\n",
    "# run simulation\n",
    "res_mf_ik = ik.run(simulation_time=T, step_size=dt, sampling_step_size=dts, solver='euler',\n",
    "                outputs={'s': 'p/ik_op/s'}, inputs={'p/ik_op/I_ext': inp[:, 0]})"
   ]
  },
  {
   "cell_type": "markdown",
   "metadata": {},
   "source": [
    "## Plot results"
   ]
  },
  {
   "cell_type": "code",
   "execution_count": null,
   "metadata": {},
   "outputs": [
    {
     "ename": "",
     "evalue": "",
     "output_type": "error",
     "traceback": [
      "\u001b[1;31mThe Kernel crashed while executing code in the current cell or a previous cell. \n",
      "\u001b[1;31mPlease review the code in the cell(s) to identify a possible cause of the failure. \n",
      "\u001b[1;31mClick <a href='https://aka.ms/vscodeJupyterKernelCrash'>here</a> for more info. \n",
      "\u001b[1;31mView Jupyter <a href='command:jupyter.viewOutput'>log</a> for further details."
     ]
    }
   ],
   "source": [
    "# Plot results\n",
    "t = res_mf_ik.index\n",
    "plt.figure(figsize=(10, 6))\n",
    "plt.plot(t, res_mf_adex['s'], label='AdEx Model')\n",
    "plt.plot(t, res_mf_ik['s'], label='Ik Model')\n",
    "plt.xlabel('Time (ms)')\n",
    "plt.ylabel('Synaptic Activation (s)')\n",
    "plt.title('Mean-Field Model Results')\n",
    "plt.legend()\n",
    "plt.show()"
   ]
  },
  {
   "cell_type": "markdown",
   "metadata": {},
   "source": [
    "## Plot for rate output\n"
   ]
  },
  {
   "cell_type": "code",
   "execution_count": null,
   "metadata": {},
   "outputs": [],
   "source": [
    "## AdEx model\n",
    "\n",
    "# initialize model\n",
    "adex = CircuitTemplate.from_yaml(\"/Users/utilizator/Desktop/THESIS CODE/gast_paper/config/adex_mf/adex\")\n",
    "\n",
    "# update parameters --- TODO!\n",
    "adex.update_var(node_vars={'p/adex_op/C': C_adex,  'p/adex_op/v_r': v_r_adex, 'p/adex_op/v_t': v_t, 'p/adex_op/delta_T': delta_T,\n",
    "                         'p/adex_op/a': a_adex, 'p/adex_op/b': b_adex, 'p/adex_op/tau_s': tau_s, 'p/adex_op/g': g_adex,\n",
    "                         'p/adex_op/E_r': E_r, 'p/adex_op/tau_w': tau_w, 'p/adex_op/delta_v': Delta})\n",
    "\n",
    "# run simulation\n",
    "res_mf_adex = adex.run(simulation_time=T, step_size=dt, sampling_step_size=dts, solver='euler',\n",
    "                outputs={'r': 'p/adex_op/s'}, inputs={'p/adex_op/I_ext': inp[:, 0]})\n",
    "\n",
    "\n",
    "\n",
    "## Ik model\n",
    "\n",
    "# initialize model\n",
    "ik = CircuitTemplate.from_yaml(\"/Users/utilizator/Desktop/THESIS CODE/gast_paper/config/ik_mf/ik\")\n",
    "\n",
    "# update parameters\n",
    "ik.update_var(node_vars={'p/ik_op/C': C, 'p/ik_op/k': k, 'p/ik_op/v_r': v_r, 'p/ik_op/v_t': v_t, 'p/ik_op/Delta': Delta,\n",
    "                         'p/ik_op/d': d, 'p/ik_op/a': a, 'p/ik_op/b': b, 'p/ik_op/tau_s': tau_s, 'p/ik_op/g': g,\n",
    "                         'p/ik_op/E_r': E_r})\n",
    "\n",
    "# run simulation\n",
    "res_mf_ik = ik.run(simulation_time=T, step_size=dt, sampling_step_size=dts, solver='euler',\n",
    "                outputs={'r': 'p/ik_op/s'}, inputs={'p/ik_op/I_ext': inp[:, 0]})"
   ]
  },
  {
   "cell_type": "code",
   "execution_count": null,
   "metadata": {},
   "outputs": [],
   "source": [
    "# PLOT\n",
    "# Plot results\n",
    "t = res_mf_ik.index\n",
    "plt.figure(figsize=(10, 6))\n",
    "plt.plot(t, res_mf_adex['r'], label='AdEx Model')\n",
    "plt.plot(t, res_mf_ik['r'], label='Ik Model')\n",
    "plt.xlabel('Time (ms)')\n",
    "plt.ylabel('Rate (s)')\n",
    "plt.title('Mean-Field Model Results')\n",
    "plt.legend()\n",
    "plt.show()"
   ]
  }
 ],
 "metadata": {
  "kernelspec": {
   "display_name": "BN",
   "language": "python",
   "name": "python3"
  },
  "language_info": {
   "codemirror_mode": {
    "name": "ipython",
    "version": 3
   },
   "file_extension": ".py",
   "mimetype": "text/x-python",
   "name": "python",
   "nbconvert_exporter": "python",
   "pygments_lexer": "ipython3",
   "version": "3.9.19"
  }
 },
 "nbformat": 4,
 "nbformat_minor": 2
}
